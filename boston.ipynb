{
 "cells": [
  {
   "cell_type": "code",
   "execution_count": 6,
   "metadata": {
    "id": "w7vqkBrmv2uc"
   },
   "outputs": [],
   "source": [
    "#importing necessary libraries\n",
    "import pandas as pd\n",
    "import numpy as np"
   ]
  },
  {
   "cell_type": "code",
   "execution_count": 7,
   "metadata": {
    "id": "v74fSFcfv-Qd"
   },
   "outputs": [],
   "source": [
    "from sklearn.model_selection import train_test_split\n",
    "from sklearn.preprocessing import StandardScaler"
   ]
  },
  {
   "cell_type": "code",
   "execution_count": 8,
   "metadata": {
    "id": "mL6ylab0wdaF"
   },
   "outputs": [],
   "source": [
    "#reading the dataset\n",
    "data=pd.read_csv(\"1_boston_housing.csv\")"
   ]
  },
  {
   "cell_type": "code",
   "execution_count": 9,
   "metadata": {
    "colab": {
     "base_uri": "https://localhost:8080/",
     "height": 206
    },
    "id": "LyTnr_mixbW9",
    "outputId": "08309ef9-cfa9-43eb-8adf-a0620928cae8"
   },
   "outputs": [
    {
     "data": {
      "text/html": [
       "<div>\n",
       "<style scoped>\n",
       "    .dataframe tbody tr th:only-of-type {\n",
       "        vertical-align: middle;\n",
       "    }\n",
       "\n",
       "    .dataframe tbody tr th {\n",
       "        vertical-align: top;\n",
       "    }\n",
       "\n",
       "    .dataframe thead th {\n",
       "        text-align: right;\n",
       "    }\n",
       "</style>\n",
       "<table border=\"1\" class=\"dataframe\">\n",
       "  <thead>\n",
       "    <tr style=\"text-align: right;\">\n",
       "      <th></th>\n",
       "      <th>crim</th>\n",
       "      <th>zn</th>\n",
       "      <th>indus</th>\n",
       "      <th>chas</th>\n",
       "      <th>nox</th>\n",
       "      <th>rm</th>\n",
       "      <th>age</th>\n",
       "      <th>dis</th>\n",
       "      <th>rad</th>\n",
       "      <th>tax</th>\n",
       "      <th>ptratio</th>\n",
       "      <th>b</th>\n",
       "      <th>lstat</th>\n",
       "      <th>MEDV</th>\n",
       "    </tr>\n",
       "  </thead>\n",
       "  <tbody>\n",
       "    <tr>\n",
       "      <th>0</th>\n",
       "      <td>0.00632</td>\n",
       "      <td>18.0</td>\n",
       "      <td>2.31</td>\n",
       "      <td>0</td>\n",
       "      <td>0.538</td>\n",
       "      <td>6.575</td>\n",
       "      <td>65.2</td>\n",
       "      <td>4.0900</td>\n",
       "      <td>1</td>\n",
       "      <td>296</td>\n",
       "      <td>15.3</td>\n",
       "      <td>396.90</td>\n",
       "      <td>4.98</td>\n",
       "      <td>24.0</td>\n",
       "    </tr>\n",
       "    <tr>\n",
       "      <th>1</th>\n",
       "      <td>0.02731</td>\n",
       "      <td>0.0</td>\n",
       "      <td>7.07</td>\n",
       "      <td>0</td>\n",
       "      <td>0.469</td>\n",
       "      <td>6.421</td>\n",
       "      <td>78.9</td>\n",
       "      <td>4.9671</td>\n",
       "      <td>2</td>\n",
       "      <td>242</td>\n",
       "      <td>17.8</td>\n",
       "      <td>396.90</td>\n",
       "      <td>9.14</td>\n",
       "      <td>21.6</td>\n",
       "    </tr>\n",
       "    <tr>\n",
       "      <th>2</th>\n",
       "      <td>0.02729</td>\n",
       "      <td>0.0</td>\n",
       "      <td>7.07</td>\n",
       "      <td>0</td>\n",
       "      <td>0.469</td>\n",
       "      <td>7.185</td>\n",
       "      <td>61.1</td>\n",
       "      <td>4.9671</td>\n",
       "      <td>2</td>\n",
       "      <td>242</td>\n",
       "      <td>17.8</td>\n",
       "      <td>392.83</td>\n",
       "      <td>4.03</td>\n",
       "      <td>34.7</td>\n",
       "    </tr>\n",
       "    <tr>\n",
       "      <th>3</th>\n",
       "      <td>0.03237</td>\n",
       "      <td>0.0</td>\n",
       "      <td>2.18</td>\n",
       "      <td>0</td>\n",
       "      <td>0.458</td>\n",
       "      <td>6.998</td>\n",
       "      <td>45.8</td>\n",
       "      <td>6.0622</td>\n",
       "      <td>3</td>\n",
       "      <td>222</td>\n",
       "      <td>18.7</td>\n",
       "      <td>394.63</td>\n",
       "      <td>2.94</td>\n",
       "      <td>33.4</td>\n",
       "    </tr>\n",
       "    <tr>\n",
       "      <th>4</th>\n",
       "      <td>0.06905</td>\n",
       "      <td>0.0</td>\n",
       "      <td>2.18</td>\n",
       "      <td>0</td>\n",
       "      <td>0.458</td>\n",
       "      <td>7.147</td>\n",
       "      <td>54.2</td>\n",
       "      <td>6.0622</td>\n",
       "      <td>3</td>\n",
       "      <td>222</td>\n",
       "      <td>18.7</td>\n",
       "      <td>396.90</td>\n",
       "      <td>5.33</td>\n",
       "      <td>36.2</td>\n",
       "    </tr>\n",
       "  </tbody>\n",
       "</table>\n",
       "</div>"
      ],
      "text/plain": [
       "      crim    zn  indus  chas    nox     rm   age     dis  rad  tax  ptratio  \\\n",
       "0  0.00632  18.0   2.31     0  0.538  6.575  65.2  4.0900    1  296     15.3   \n",
       "1  0.02731   0.0   7.07     0  0.469  6.421  78.9  4.9671    2  242     17.8   \n",
       "2  0.02729   0.0   7.07     0  0.469  7.185  61.1  4.9671    2  242     17.8   \n",
       "3  0.03237   0.0   2.18     0  0.458  6.998  45.8  6.0622    3  222     18.7   \n",
       "4  0.06905   0.0   2.18     0  0.458  7.147  54.2  6.0622    3  222     18.7   \n",
       "\n",
       "        b  lstat  MEDV  \n",
       "0  396.90   4.98  24.0  \n",
       "1  396.90   9.14  21.6  \n",
       "2  392.83   4.03  34.7  \n",
       "3  394.63   2.94  33.4  \n",
       "4  396.90   5.33  36.2  "
      ]
     },
     "execution_count": 9,
     "metadata": {},
     "output_type": "execute_result"
    }
   ],
   "source": [
    "#dataset \n",
    "data.head()"
   ]
  },
  {
   "cell_type": "code",
   "execution_count": 10,
   "metadata": {
    "colab": {
     "base_uri": "https://localhost:8080/"
    },
    "id": "Aw0edQ9Xznlv",
    "outputId": "5c533b71-a969-46df-9a46-4e330e5a5902"
   },
   "outputs": [
    {
     "data": {
      "text/plain": [
       "crim       0\n",
       "zn         0\n",
       "indus      0\n",
       "chas       0\n",
       "nox        0\n",
       "rm         0\n",
       "age        0\n",
       "dis        0\n",
       "rad        0\n",
       "tax        0\n",
       "ptratio    0\n",
       "b          0\n",
       "lstat      0\n",
       "MEDV       0\n",
       "dtype: int64"
      ]
     },
     "execution_count": 10,
     "metadata": {},
     "output_type": "execute_result"
    }
   ],
   "source": [
    "#checking null values\n",
    "data.isnull().sum()"
   ]
  },
  {
   "cell_type": "code",
   "execution_count": 11,
   "metadata": {
    "id": "ZnnPuW_2x9m1"
   },
   "outputs": [],
   "source": [
    "x=data.drop('MEDV',axis=1)"
   ]
  },
  {
   "cell_type": "code",
   "execution_count": 12,
   "metadata": {
    "id": "d80w3wHNy0lp"
   },
   "outputs": [],
   "source": [
    "y=data['MEDV']"
   ]
  },
  {
   "cell_type": "code",
   "execution_count": 13,
   "metadata": {
    "id": "-S48zDoYy7m3"
   },
   "outputs": [],
   "source": [
    "x_train,x_test,y_train,y_test=train_test_split(x,y,test_size=0.2,random_state=1)"
   ]
  },
  {
   "cell_type": "code",
   "execution_count": 14,
   "metadata": {
    "id": "2uEL1AcT0QqR"
   },
   "outputs": [],
   "source": [
    "scaler=StandardScaler()\n",
    "x_train=scaler.fit_transform(x_train)\n",
    "x_test=scaler.fit_transform(x_test)"
   ]
  },
  {
   "cell_type": "code",
   "execution_count": 15,
   "metadata": {
    "colab": {
     "base_uri": "https://localhost:8080/"
    },
    "id": "JJZQzlEh0tnc",
    "outputId": "a1f50fa7-ca6a-4d53-9e4d-83e4a82b24ee"
   },
   "outputs": [
    {
     "name": "stdout",
     "output_type": "stream",
     "text": [
      "Model: \"sequential\"\n",
      "_________________________________________________________________\n",
      " Layer (type)                Output Shape              Param #   \n",
      "=================================================================\n",
      " dense_1 (Dense)             (None, 128)               1792      \n",
      "                                                                 \n",
      " dense_2 (Dense)             (None, 64)                8256      \n",
      "                                                                 \n",
      " dense_output (Dense)        (None, 1)                 65        \n",
      "                                                                 \n",
      "=================================================================\n",
      "Total params: 10113 (39.50 KB)\n",
      "Trainable params: 10113 (39.50 KB)\n",
      "Non-trainable params: 0 (0.00 Byte)\n",
      "_________________________________________________________________\n"
     ]
    }
   ],
   "source": [
    "#model\n",
    "from keras.models import Sequential\n",
    "from keras.layers import Dense\n",
    "\n",
    "model = Sequential()\n",
    "\n",
    "model.add(Dense(128,input_shape = (13,),activation = 'relu',name='dense_1'))\n",
    "model.add(Dense(64,activation = 'relu',name = 'dense_2'))\n",
    "model.add(Dense(1,activation='linear',name='dense_output'))\n",
    "\n",
    "model.compile(optimizer = 'adam',loss='mse',metrics=['mae'])\n",
    "model.summary()\n"
   ]
  },
  {
   "cell_type": "code",
   "execution_count": 16,
   "metadata": {
    "colab": {
     "base_uri": "https://localhost:8080/"
    },
    "id": "xC-pC7i61qjO",
    "outputId": "434ef5ff-b87f-4010-e5e6-cb34174c68df"
   },
   "outputs": [
    {
     "name": "stdout",
     "output_type": "stream",
     "text": [
      "Epoch 1/50\n",
      "11/11 [==============================] - 2s 39ms/step - loss: 566.4629 - mae: 22.0231 - val_loss: 501.6475 - val_mae: 20.2613\n",
      "Epoch 2/50\n",
      "11/11 [==============================] - 0s 8ms/step - loss: 494.2646 - mae: 20.2130 - val_loss: 427.3682 - val_mae: 18.3988\n",
      "Epoch 3/50\n",
      "11/11 [==============================] - 0s 8ms/step - loss: 410.7095 - mae: 17.9905 - val_loss: 334.5360 - val_mae: 16.0436\n",
      "Epoch 4/50\n",
      "11/11 [==============================] - 0s 9ms/step - loss: 303.5666 - mae: 15.1469 - val_loss: 227.4559 - val_mae: 12.8787\n",
      "Epoch 5/50\n",
      "11/11 [==============================] - 0s 8ms/step - loss: 188.7720 - mae: 11.6689 - val_loss: 124.3719 - val_mae: 9.2004\n",
      "Epoch 6/50\n",
      "11/11 [==============================] - 0s 12ms/step - loss: 93.8054 - mae: 7.8465 - val_loss: 63.2167 - val_mae: 6.3375\n",
      "Epoch 7/50\n",
      "11/11 [==============================] - 0s 8ms/step - loss: 54.1262 - mae: 5.6869 - val_loss: 48.2166 - val_mae: 4.9050\n",
      "Epoch 8/50\n",
      "11/11 [==============================] - 0s 9ms/step - loss: 44.3411 - mae: 4.9600 - val_loss: 39.2758 - val_mae: 4.2446\n",
      "Epoch 9/50\n",
      "11/11 [==============================] - 0s 8ms/step - loss: 33.2219 - mae: 4.2126 - val_loss: 33.0849 - val_mae: 3.9080\n",
      "Epoch 10/50\n",
      "11/11 [==============================] - 0s 7ms/step - loss: 27.7317 - mae: 3.8052 - val_loss: 30.0904 - val_mae: 3.7069\n",
      "Epoch 11/50\n",
      "11/11 [==============================] - 0s 7ms/step - loss: 24.6756 - mae: 3.5763 - val_loss: 27.8348 - val_mae: 3.5634\n",
      "Epoch 12/50\n",
      "11/11 [==============================] - 0s 6ms/step - loss: 22.7742 - mae: 3.4295 - val_loss: 26.4601 - val_mae: 3.5035\n",
      "Epoch 13/50\n",
      "11/11 [==============================] - 0s 15ms/step - loss: 21.3579 - mae: 3.3383 - val_loss: 25.3851 - val_mae: 3.4473\n",
      "Epoch 14/50\n",
      "11/11 [==============================] - 0s 13ms/step - loss: 20.3819 - mae: 3.2550 - val_loss: 24.5358 - val_mae: 3.3840\n",
      "Epoch 15/50\n",
      "11/11 [==============================] - 0s 19ms/step - loss: 19.5131 - mae: 3.2034 - val_loss: 23.6405 - val_mae: 3.3845\n",
      "Epoch 16/50\n",
      "11/11 [==============================] - 0s 15ms/step - loss: 18.6238 - mae: 3.1174 - val_loss: 23.0514 - val_mae: 3.2993\n",
      "Epoch 17/50\n",
      "11/11 [==============================] - 0s 14ms/step - loss: 17.7355 - mae: 3.0048 - val_loss: 22.5688 - val_mae: 3.2257\n",
      "Epoch 18/50\n",
      "11/11 [==============================] - 0s 8ms/step - loss: 17.3373 - mae: 2.9175 - val_loss: 22.4160 - val_mae: 3.1635\n",
      "Epoch 19/50\n",
      "11/11 [==============================] - 0s 10ms/step - loss: 16.7468 - mae: 2.8671 - val_loss: 21.6954 - val_mae: 3.1312\n",
      "Epoch 20/50\n",
      "11/11 [==============================] - 0s 9ms/step - loss: 16.0419 - mae: 2.8422 - val_loss: 21.1428 - val_mae: 3.1109\n",
      "Epoch 21/50\n",
      "11/11 [==============================] - 0s 9ms/step - loss: 15.6261 - mae: 2.8064 - val_loss: 20.7564 - val_mae: 3.0647\n",
      "Epoch 22/50\n",
      "11/11 [==============================] - 0s 7ms/step - loss: 15.2392 - mae: 2.7367 - val_loss: 20.6156 - val_mae: 3.0415\n",
      "Epoch 23/50\n",
      "11/11 [==============================] - 0s 7ms/step - loss: 14.8154 - mae: 2.7312 - val_loss: 19.9767 - val_mae: 3.0538\n",
      "Epoch 24/50\n",
      "11/11 [==============================] - 0s 7ms/step - loss: 14.6470 - mae: 2.7143 - val_loss: 19.8131 - val_mae: 3.0162\n",
      "Epoch 25/50\n",
      "11/11 [==============================] - 0s 7ms/step - loss: 14.2785 - mae: 2.6649 - val_loss: 19.5773 - val_mae: 2.9411\n",
      "Epoch 26/50\n",
      "11/11 [==============================] - 0s 8ms/step - loss: 14.4913 - mae: 2.6432 - val_loss: 20.8514 - val_mae: 2.8837\n",
      "Epoch 27/50\n",
      "11/11 [==============================] - 0s 9ms/step - loss: 14.4743 - mae: 2.6388 - val_loss: 19.5011 - val_mae: 2.8943\n",
      "Epoch 28/50\n",
      "11/11 [==============================] - 0s 11ms/step - loss: 13.7546 - mae: 2.6433 - val_loss: 18.6213 - val_mae: 2.9209\n",
      "Epoch 29/50\n",
      "11/11 [==============================] - 0s 8ms/step - loss: 13.5549 - mae: 2.6461 - val_loss: 18.1504 - val_mae: 2.9248\n",
      "Epoch 30/50\n",
      "11/11 [==============================] - 0s 9ms/step - loss: 13.1137 - mae: 2.5989 - val_loss: 18.0822 - val_mae: 2.8201\n",
      "Epoch 31/50\n",
      "11/11 [==============================] - 0s 7ms/step - loss: 12.8118 - mae: 2.5164 - val_loss: 18.0931 - val_mae: 2.7775\n",
      "Epoch 32/50\n",
      "11/11 [==============================] - 0s 8ms/step - loss: 12.6005 - mae: 2.5072 - val_loss: 17.8787 - val_mae: 2.7847\n",
      "Epoch 33/50\n",
      "11/11 [==============================] - 0s 9ms/step - loss: 12.5138 - mae: 2.4974 - val_loss: 18.1752 - val_mae: 2.7353\n",
      "Epoch 34/50\n",
      "11/11 [==============================] - 0s 12ms/step - loss: 12.3278 - mae: 2.4935 - val_loss: 17.7567 - val_mae: 2.7470\n",
      "Epoch 35/50\n",
      "11/11 [==============================] - 0s 7ms/step - loss: 12.2412 - mae: 2.4705 - val_loss: 17.6084 - val_mae: 2.6908\n",
      "Epoch 36/50\n",
      "11/11 [==============================] - 0s 5ms/step - loss: 11.8844 - mae: 2.4573 - val_loss: 17.1746 - val_mae: 2.7207\n",
      "Epoch 37/50\n",
      "11/11 [==============================] - 0s 7ms/step - loss: 11.7606 - mae: 2.4662 - val_loss: 17.2972 - val_mae: 2.7314\n",
      "Epoch 38/50\n",
      "11/11 [==============================] - 0s 7ms/step - loss: 11.5584 - mae: 2.4086 - val_loss: 17.3289 - val_mae: 2.6482\n",
      "Epoch 39/50\n",
      "11/11 [==============================] - 0s 5ms/step - loss: 11.5800 - mae: 2.3883 - val_loss: 16.9595 - val_mae: 2.6912\n",
      "Epoch 40/50\n",
      "11/11 [==============================] - 0s 7ms/step - loss: 12.0832 - mae: 2.5116 - val_loss: 17.3506 - val_mae: 2.9783\n",
      "Epoch 41/50\n",
      "11/11 [==============================] - 0s 5ms/step - loss: 11.4954 - mae: 2.4530 - val_loss: 16.7036 - val_mae: 2.7188\n",
      "Epoch 42/50\n",
      "11/11 [==============================] - 0s 7ms/step - loss: 11.0163 - mae: 2.3474 - val_loss: 16.6056 - val_mae: 2.6478\n",
      "Epoch 43/50\n",
      "11/11 [==============================] - 0s 6ms/step - loss: 10.8520 - mae: 2.3430 - val_loss: 16.2340 - val_mae: 2.6689\n",
      "Epoch 44/50\n",
      "11/11 [==============================] - 0s 9ms/step - loss: 10.5731 - mae: 2.3191 - val_loss: 15.9980 - val_mae: 2.6789\n",
      "Epoch 45/50\n",
      "11/11 [==============================] - 0s 10ms/step - loss: 10.5087 - mae: 2.3409 - val_loss: 15.8675 - val_mae: 2.7178\n",
      "Epoch 46/50\n",
      "11/11 [==============================] - 0s 7ms/step - loss: 10.3974 - mae: 2.3360 - val_loss: 15.7733 - val_mae: 2.6222\n",
      "Epoch 47/50\n",
      "11/11 [==============================] - 0s 6ms/step - loss: 10.2853 - mae: 2.2931 - val_loss: 15.8005 - val_mae: 2.5648\n",
      "Epoch 48/50\n",
      "11/11 [==============================] - 0s 7ms/step - loss: 10.3409 - mae: 2.2853 - val_loss: 15.7398 - val_mae: 2.5504\n",
      "Epoch 49/50\n",
      "11/11 [==============================] - 0s 10ms/step - loss: 10.2402 - mae: 2.3103 - val_loss: 15.4649 - val_mae: 2.5908\n",
      "Epoch 50/50\n",
      "11/11 [==============================] - 0s 8ms/step - loss: 10.0598 - mae: 2.2705 - val_loss: 15.6304 - val_mae: 2.5339\n"
     ]
    }
   ],
   "source": [
    "history=model.fit(x_train,y_train,epochs=50,batch_size=32,validation_split=0.2)"
   ]
  },
  {
   "cell_type": "code",
   "execution_count": 17,
   "metadata": {
    "colab": {
     "base_uri": "https://localhost:8080/"
    },
    "id": "hdUVfnUv2ldk",
    "outputId": "2832512c-52c2-4e60-abf8-03446dbedbd1"
   },
   "outputs": [
    {
     "name": "stdout",
     "output_type": "stream",
     "text": [
      "4/4 [==============================] - 0s 2ms/step - loss: 11.9717 - mae: 2.7714\n",
      "mse: 11.971702575683594\n",
      "mae: 2.771353244781494\n"
     ]
    }
   ],
   "source": [
    "mse,mae=model.evaluate(x_test,y_test)\n",
    "print(\"mse:\",mse)\n",
    "print(\"mae:\",mae)"
   ]
  },
  {
   "cell_type": "code",
   "execution_count": 18,
   "metadata": {
    "colab": {
     "base_uri": "https://localhost:8080/"
    },
    "id": "ZrCE83Iu3DAL",
    "outputId": "5ab483cf-8cf0-4b59-94aa-2f5d33e2147f"
   },
   "outputs": [
    {
     "name": "stdout",
     "output_type": "stream",
     "text": [
      "4/4 [==============================] - 0s 2ms/step\n"
     ]
    }
   ],
   "source": [
    "y_pred = model.predict(x_test[:])"
   ]
  },
  {
   "cell_type": "code",
   "execution_count": 19,
   "metadata": {
    "id": "dgTjaPTQ32MZ"
   },
   "outputs": [],
   "source": [
    "p=[]\n",
    "for i in y_pred:\n",
    "    p.append(list(i)[0])"
   ]
  },
  {
   "cell_type": "code",
   "execution_count": 20,
   "metadata": {
    "id": "3AsQuEFU7Rqh"
   },
   "outputs": [
    {
     "data": {
      "text/html": [
       "<div>\n",
       "<style scoped>\n",
       "    .dataframe tbody tr th:only-of-type {\n",
       "        vertical-align: middle;\n",
       "    }\n",
       "\n",
       "    .dataframe tbody tr th {\n",
       "        vertical-align: top;\n",
       "    }\n",
       "\n",
       "    .dataframe thead th {\n",
       "        text-align: right;\n",
       "    }\n",
       "</style>\n",
       "<table border=\"1\" class=\"dataframe\">\n",
       "  <thead>\n",
       "    <tr style=\"text-align: right;\">\n",
       "      <th></th>\n",
       "      <th>actual</th>\n",
       "      <th>predicted</th>\n",
       "    </tr>\n",
       "  </thead>\n",
       "  <tbody>\n",
       "    <tr>\n",
       "      <th>307</th>\n",
       "      <td>28.2</td>\n",
       "      <td>28.614225</td>\n",
       "    </tr>\n",
       "    <tr>\n",
       "      <th>343</th>\n",
       "      <td>23.9</td>\n",
       "      <td>22.261560</td>\n",
       "    </tr>\n",
       "    <tr>\n",
       "      <th>47</th>\n",
       "      <td>16.6</td>\n",
       "      <td>21.126184</td>\n",
       "    </tr>\n",
       "    <tr>\n",
       "      <th>67</th>\n",
       "      <td>22.0</td>\n",
       "      <td>24.020861</td>\n",
       "    </tr>\n",
       "    <tr>\n",
       "      <th>362</th>\n",
       "      <td>20.8</td>\n",
       "      <td>21.498308</td>\n",
       "    </tr>\n",
       "    <tr>\n",
       "      <th>...</th>\n",
       "      <td>...</td>\n",
       "      <td>...</td>\n",
       "    </tr>\n",
       "    <tr>\n",
       "      <th>92</th>\n",
       "      <td>22.9</td>\n",
       "      <td>24.230425</td>\n",
       "    </tr>\n",
       "    <tr>\n",
       "      <th>224</th>\n",
       "      <td>44.8</td>\n",
       "      <td>42.906040</td>\n",
       "    </tr>\n",
       "    <tr>\n",
       "      <th>110</th>\n",
       "      <td>21.7</td>\n",
       "      <td>20.079691</td>\n",
       "    </tr>\n",
       "    <tr>\n",
       "      <th>426</th>\n",
       "      <td>10.2</td>\n",
       "      <td>14.542186</td>\n",
       "    </tr>\n",
       "    <tr>\n",
       "      <th>443</th>\n",
       "      <td>15.4</td>\n",
       "      <td>9.941895</td>\n",
       "    </tr>\n",
       "  </tbody>\n",
       "</table>\n",
       "<p>102 rows × 2 columns</p>\n",
       "</div>"
      ],
      "text/plain": [
       "     actual  predicted\n",
       "307    28.2  28.614225\n",
       "343    23.9  22.261560\n",
       "47     16.6  21.126184\n",
       "67     22.0  24.020861\n",
       "362    20.8  21.498308\n",
       "..      ...        ...\n",
       "92     22.9  24.230425\n",
       "224    44.8  42.906040\n",
       "110    21.7  20.079691\n",
       "426    10.2  14.542186\n",
       "443    15.4   9.941895\n",
       "\n",
       "[102 rows x 2 columns]"
      ]
     },
     "execution_count": 20,
     "metadata": {},
     "output_type": "execute_result"
    }
   ],
   "source": [
    "d = pd.DataFrame({'actual':y_test,'predicted':p})\n",
    "d"
   ]
  },
  {
   "cell_type": "code",
   "execution_count": 21,
   "metadata": {
    "colab": {
     "base_uri": "https://localhost:8080/",
     "height": 472
    },
    "id": "Oq4igthnAxkK",
    "outputId": "c80aa315-6dea-464a-adea-43dc9f98e2ef"
   },
   "outputs": [
    {
     "data": {
      "image/png": "[encoded data removed]",
      "text/plain": [
       "<Figure size 640x480 with 1 Axes>"
      ]
     },
     "metadata": {},
     "output_type": "display_data"
    }
   ],
   "source": [
    "import matplotlib.pyplot as plt\n",
    "plt.plot(history.history['loss'])\n",
    "plt.plot(history.history['val_loss'])\n",
    "plt.title('model loss')\n",
    "plt.ylabel('loss')\n",
    "plt.xlabel('epoch')\n",
    "plt.legend(['train','test'],loc='upper left')\n",
    "plt.show()"
   ]
  },
  {
   "cell_type": "code",
   "execution_count": 27,
   "metadata": {
    "id": "Jml_nkKiBGGq"
   },
   "outputs": [
    {
     "data": {
      "image/png": "[encoded data removed]",
      "text/plain": [
       "<Figure size 1000x600 with 1 Axes>"
      ]
     },
     "metadata": {},
     "output_type": "display_data"
    }
   ],
   "source": [
    "import pandas as pd\n",
    "import matplotlib.pyplot as plt\n",
    "\n",
    "# Assuming y_test contains the actual values and p contains the predicted values\n",
    "d = pd.DataFrame({'Actual': y_test, 'Predicted': p})\n",
    "\n",
    "# Plot the graph\n",
    "plt.figure(figsize=(10, 6))\n",
    "plt.scatter(d['Actual'], d['Predicted'], c=['blue' if a > p else 'red' for a, p in zip(d['Actual'], d['Predicted'])])\n",
    "plt.title('Actual vs Predicted')\n",
    "plt.xlabel('Actual')\n",
    "plt.ylabel('Predicted')\n",
    "plt.show()\n"
   ]
  },
  {
   "cell_type": "code",
   "execution_count": null,
   "metadata": {},
   "outputs": [],
   "source": []
  },
  {
   "cell_type": "code",
   "execution_count": null,
   "metadata": {},
   "outputs": [],
   "source": []
  }
 ],
 "metadata": {
  "colab": {
   "provenance": []
  },
  "kernelspec": {
   "display_name": "Python 3 (ipykernel)",
   "language": "python",
   "name": "python3"
  },
  "language_info": {
   "codemirror_mode": {
    "name": "ipython",
    "version": 3
   },
   "file_extension": ".py",
   "mimetype": "text/x-python",
   "name": "python",
   "nbconvert_exporter": "python",
   "pygments_lexer": "ipython3",
   "version": "3.11.5"
  }
 },
 "nbformat": 4,
 "nbformat_minor": 1
}
